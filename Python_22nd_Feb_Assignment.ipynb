{
 "cells": [
  {
   "cell_type": "markdown",
   "id": "2e66cbdf-00c3-43eb-bbbe-d450e1da45c6",
   "metadata": {},
   "source": [
    "Go to this given URL and solve the following questions\n",
    "\n",
    "URL: https://www.youtube.com/@PW-Foundation/videos\n",
    "1. Write a python program to extract the video URL of the first five videos.\n",
    "2. Write a python program to extract the URL of the video thumbnails of the first five videos.\n",
    "3. Write a python program to extract the title of the first five videos.\n",
    "4. Write a python program to extract the number of views of the first five videos.\n",
    "5. Write a python program to extract the time of posting of video for the first five videos.\n",
    "\n",
    "Note: Save all the data scraped in the above questions in a CSV file."
   ]
  },
  {
   "cell_type": "code",
   "execution_count": 1,
   "id": "ecc36bf2-af26-47f6-89b1-158a15cb6bde",
   "metadata": {},
   "outputs": [
    {
     "name": "stdin",
     "output_type": "stream",
     "text": [
      "Please Enter the link for the youtube channel: https://www.youtube.com/@PW-Foundation\n",
      "Please Enter the number of results to show 10\n"
     ]
    }
   ],
   "source": [
    "from selenium import webdriver\n",
    "from selenium.webdriver.common.by import By\n",
    "from selenium.webdriver.common.keys import Keys\n",
    "from selenium.webdriver.support.ui import WebDriverWait\n",
    "import pandas as pd\n",
    "import time\n",
    "url = input(\"Please Enter the link for the youtube channel:\")\n",
    "results = int(input(\"Please Enter the number of results to show\"))\n",
    "driver = webdriver.Chrome()\n",
    "driver.get(url+'/videos')\n",
    "link = []\n",
    "img_link = []\n",
    "title = []\n",
    "view_list = []\n",
    "date_list = []\n",
    "wait = WebDriverWait(driver, 20)\n",
    "body_elem = driver.find_element(By.TAG_NAME, 'body')\n",
    "for i in range(5):\n",
    "    body_elem.send_keys(Keys.PAGE_DOWN)\n",
    "    time.sleep(2)\n",
    "vid_url = driver.find_elements(By.XPATH, \"//a[@id='video-title-link']\")\n",
    "view = driver.find_elements(By.XPATH,'//*[@id=\"metadata-line\"]/span[1]' )\n",
    "date = driver.find_elements(By.XPATH,'//*[@id=\"metadata-line\"]/span[2]' )\n",
    "image_links = driver.find_elements(By.XPATH, \"//a[@id='thumbnail']/yt-image/img\")\n",
    "for i in range(results):\n",
    "    link.append(vid_url[i].get_attribute('href'))\n",
    "  #  time.sleep(1)\n",
    "    view_list.append(view[i].text)\n",
    "    date_list.append(date[i].text)\n",
    "    title.append(vid_url[i].text)\n",
    "    img_link.append(image_links[i].get_attribute('src'))\n",
    "driver.quit()"
   ]
  },
  {
   "cell_type": "code",
   "execution_count": 3,
   "id": "8eb0d714-5596-49cd-b1a4-6dfa19394c8b",
   "metadata": {},
   "outputs": [],
   "source": [
    "df1 = pd.DataFrame({'Web URLs':link})\n",
    "df2 = pd.DataFrame({'Image Link':img_link})\n",
    "df3 = pd.DataFrame({'Video Title':title})\n",
    "df4 = pd.DataFrame({'Video Views':view_list})\n",
    "df5 = pd.DataFrame({'Video Date':date_list})\n",
    "df1.to_csv('youtube1.csv', index=False)\n",
    "df2.to_csv('youtube2.csv', index=False)\n",
    "df3.to_csv('youtube3.csv', index=False)\n",
    "df4.to_csv('youtube4.csv', index=False)\n",
    "df5.to_csv('youtube5.csv', index=False)\n",
    "df = pd.DataFrame({'Web URLs':link, 'Image Link':img_link,'Video Title':title , 'Video Views':view_list, 'Video Date':date_list})\n",
    "df.to_csv('youtube.csv', index=False)"
   ]
  },
  {
   "cell_type": "code",
   "execution_count": null,
   "id": "4d5cdd9e-3dde-445b-8df1-54876f4f5770",
   "metadata": {},
   "outputs": [],
   "source": []
  }
 ],
 "metadata": {
  "kernelspec": {
   "display_name": "Python 3 (ipykernel)",
   "language": "python",
   "name": "python3"
  },
  "language_info": {
   "codemirror_mode": {
    "name": "ipython",
    "version": 3
   },
   "file_extension": ".py",
   "mimetype": "text/x-python",
   "name": "python",
   "nbconvert_exporter": "python",
   "pygments_lexer": "ipython3",
   "version": "3.9.13"
  }
 },
 "nbformat": 4,
 "nbformat_minor": 5
}
